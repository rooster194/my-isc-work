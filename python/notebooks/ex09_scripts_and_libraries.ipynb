{
 "cells": [
  {
   "cell_type": "markdown",
   "metadata": {},
   "source": [
    "# Excercise 9: Scripts and Libraries"
   ]
  },
  {
   "cell_type": "markdown",
   "metadata": {},
   "source": [
    "## Aim: Introduce scripts and importing from libraries"
   ]
  },
  {
   "cell_type": "markdown",
   "metadata": {},
   "source": [
    "### Issues covered:\n",
    "- Become familiar with running a python script\n",
    "- Working with command line arguments\n",
    "- Create your own library\n",
    "- Learn about the `__init__.py` module\n",
    "- Use a script to import your own library to call a function"
   ]
  },
  {
   "cell_type": "markdown",
   "metadata": {},
   "source": [
    "This excercise will require you to use the tools a little differently, making use of Jupyter as a handy file editor and the command line for running the commands."
   ]
  },
  {
   "cell_type": "markdown",
   "metadata": {},
   "source": [
    "**NOTE: Changes to the file system on JASMIN will not take immediate effect but should be reflected after a few seconds**"
   ]
  },
  {
   "cell_type": "markdown",
   "metadata": {},
   "source": [
    "## 1. Let's make a python library called table_reader\n",
    "Create a directory (in the Linux shell) called \"table_reader\"\n",
    "Create a file inside the \"table_reader\" directory called \"\\_\\_init__.py\"\n",
    "Add a variable in the \"\\_\\_init__.py\" file to hold the librarys version number."
   ]
  },
  {
   "cell_type": "markdown",
   "metadata": {},
   "source": [
    "Test if you can import the library"
   ]
  },
  {
   "cell_type": "markdown",
   "metadata": {},
   "source": [
    "`python -c \"import table_reader\"`"
   ]
  },
  {
   "cell_type": "markdown",
   "metadata": {},
   "source": [
    "Test if you can import the library and then print it's version"
   ]
  },
  {
   "cell_type": "markdown",
   "metadata": {},
   "source": [
    "`python -c \"import table_reader; print(table_reader.VERSION)\"`"
   ]
  },
  {
   "cell_type": "markdown",
   "metadata": {},
   "source": [
    "## 2. Lets create the \"read_table.py\" module inside our library"
   ]
  },
  {
   "cell_type": "markdown",
   "metadata": {},
   "source": [
    "Copy the file \"example_code/read_table.py\" to the \"table_reader\" directory"
   ]
  },
  {
   "cell_type": "raw",
   "metadata": {},
   "source": []
  },
  {
   "cell_type": "markdown",
   "metadata": {},
   "source": [
    "Have a look inside the \"table_reader/read_table.py\" module. Do you understand what should happen in the \"print_table\" function?"
   ]
  },
  {
   "cell_type": "raw",
   "metadata": {},
   "source": [
    "Test if you can import the module by running (in your linux terminal):\n",
    "\n",
    "`python -c \"import table_reader.read_table\"`![ex09_scripts_and_libraries_solutions.ipynb](attachment:ex09_scripts_and_libraries_solutions.ipynb)"
   ]
  },
  {
   "cell_type": "markdown",
   "metadata": {},
   "source": [
    "Test if you can import the \"print_table\" function from the module by running:\n",
    "\n",
    "`python -c \"from table_reader.read_table import print_table\"`"
   ]
  },
  {
   "cell_type": "markdown",
   "metadata": {},
   "source": [
    "## 3. Let's write a 4 line script that allows users to interact with our library"
   ]
  },
  {
   "cell_type": "markdown",
   "metadata": {},
   "source": [
    "Create a script in the current directory (not in \"table_reader\" called \"print_table.py\" containing lines:\n",
    "\n",
    "- L1: Import the `sys` module\n",
    "- L2: Import the `print_table` function from the `table_reader.read_table` module\n",
    "- L3: Set a variable `headers` to all command-line arguments sent to the script (`sys.argv`)\n",
    "- L4: Call the `print_table` function with the variable `headers`"
   ]
  },
  {
   "cell_type": "markdown",
   "metadata": {},
   "source": [
    "Test running the script without any arguments"
   ]
  },
  {
   "cell_type": "markdown",
   "metadata": {},
   "source": [
    "Test running the script with some of the columns selected (**HINT: Check the read_table.py for the possible headers**)"
   ]
  },
  {
   "cell_type": "markdown",
   "metadata": {},
   "source": [
    "What happens if you run the script and supply a header name which is not in the table?"
   ]
  },
  {
   "cell_type": "markdown",
   "metadata": {},
   "source": [
    "### Error handling"
   ]
  },
  {
   "cell_type": "markdown",
   "metadata": {},
   "source": [
    "If you have time, you could try to extending the `print_table` function to add error handling the following cases:\n",
    "\n",
    "- empty list of headers\n",
    "- header not in the data"
   ]
  }
 ],
 "metadata": {
  "kernelspec": {
   "display_name": "Python 3 + Jaspy",
   "language": "python",
   "name": "jaspy"
  },
  "language_info": {
   "codemirror_mode": {
    "name": "ipython",
    "version": 3
   },
   "file_extension": ".py",
   "mimetype": "text/x-python",
   "name": "python",
   "nbconvert_exporter": "python",
   "pygments_lexer": "ipython3",
   "version": "3.8.12"
  }
 },
 "nbformat": 4,
 "nbformat_minor": 4
}
